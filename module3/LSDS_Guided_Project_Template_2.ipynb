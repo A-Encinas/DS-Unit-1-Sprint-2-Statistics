{
  "nbformat": 4,
  "nbformat_minor": 0,
  "metadata": {
    "colab": {
      "name": "LSDS_Guided_Project_Template.ipynb",
      "provenance": [],
      "collapsed_sections": []
    },
    "kernelspec": {
      "name": "python3",
      "display_name": "Python 3"
    }
  },
  "cells": [
    {
      "cell_type": "markdown",
      "metadata": {
        "id": "Ldr0HZ193GKb",
        "colab_type": "text"
      },
      "source": [
        "Lambda School Data Science\n",
        "\n",
        "*Unit X, Sprint Y, Module Z*\n",
        "\n",
        "---\n",
        "\n"
      ]
    },
    {
      "cell_type": "markdown",
      "metadata": {
        "id": "2CkckTc6-txA",
        "colab_type": "text"
      },
      "source": [
        "# Module Name (Prepare)\n",
        "\n",
        "- Student can objective 1\n",
        "- Student can objective 2\n",
        "\n",
        "More stuff:\n",
        "- Markdown only - 2-4 prelinks, context, optionally theory/history foundation)\n",
        "- Bullet for what environment(s) you're working in that week\n",
        "- Optional subsection ideas - Setup, Requirements"
      ]
    },
    {
      "cell_type": "markdown",
      "metadata": {
        "id": "UsXrL1fx-8FJ",
        "colab_type": "text"
      },
      "source": [
        "# [Objective](#objective) (Learn)\n",
        "\n",
        "Make one of these overall top-level sections for each objective. Name it \"Objective\" and use an anchor id."
      ]
    },
    {
      "cell_type": "markdown",
      "metadata": {
        "id": "6Pyfp3O6_rxa",
        "colab_type": "text"
      },
      "source": [
        "## Overview\n",
        "\n",
        "- Reminder to watch the prewatch video if it exists (longterm - should we just link to it? how do we keep it secret?)\n",
        "- There can (and often should) be code blocks here, focusing on semi-showy/motivating examples"
      ]
    },
    {
      "cell_type": "code",
      "metadata": {
        "id": "gaD1JtzxsqFc",
        "colab_type": "code",
        "colab": {}
      },
      "source": [
        "# Cool motivating example here!"
      ],
      "execution_count": 0,
      "outputs": []
    },
    {
      "cell_type": "markdown",
      "metadata": {
        "id": "0hyfTWhj_x8J",
        "colab_type": "text"
      },
      "source": [
        "## Follow Along\n",
        "\n",
        "- Lots\n",
        "- Of\n",
        "- Fun\n",
        "- Subsections\n",
        "- Main\n",
        "- Lecture\n",
        "- Time\n",
        "\n",
        "You have a good amount of \"creative freedom\" here, but do be mindful of translating it back to the TK."
      ]
    },
    {
      "cell_type": "code",
      "metadata": {
        "id": "r-rI7Q5t_9R8",
        "colab_type": "code",
        "colab": {}
      },
      "source": [
        "# You'll definitely need code blocks in this section too"
      ],
      "execution_count": 0,
      "outputs": []
    },
    {
      "cell_type": "markdown",
      "metadata": {
        "id": "JPudCitn__Mw",
        "colab_type": "text"
      },
      "source": [
        "## Challenge\n",
        "\n",
        "A \"teaser\"/description of what they will do with this in the module project (not code/details, just continuity/reminding students on next steps). No code cells - those details belong in the module project notebook."
      ]
    },
    {
      "cell_type": "markdown",
      "metadata": {
        "id": "trZtxlPtASwI",
        "colab_type": "text"
      },
      "source": [
        "# Review\n",
        "\n",
        "Call to action, what you do next.\n",
        "- Another (high level, 2-3 sentence) summary of the overall module project (now that they've seen all objectives, talk about how they come together)\n",
        "- Link to separate module project notebook (so again no code cells here)\n",
        "\n",
        "You should spend the last 5 minutes of lecture reading/discussing this section with students, and pasting into Slack, just to be sure folks really know what they're doing next."
      ]
    },
    {
      "cell_type": "markdown",
      "metadata": {
        "id": "InNqUKkjAtoF",
        "colab_type": "text"
      },
      "source": [
        "# Sources\n",
        "\n",
        "- MVP would be links to whatever you used (even include credits for CC-licensed pictures, etc. - though that's below actually useful sources)\n",
        "- Could include links to advanced resources as appropriate (not explicit stretch goals - those go in assignment notebook)\n",
        "\n",
        "This isn't quite as explicitly connected to TK fields right now, but important for our purposes. Keep it simple and standard, and drop it into the TK as appropriate."
      ]
    }
  ]
}